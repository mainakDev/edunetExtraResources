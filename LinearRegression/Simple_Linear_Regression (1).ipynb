{
 "cells": [
  {
   "cell_type": "code",
   "execution_count": 4,
   "metadata": {},
   "outputs": [],
   "source": [
    "import pandas as pd\n",
    "import matplotlib.pyplot as plt"
   ]
  },
  {
   "cell_type": "code",
   "execution_count": 5,
   "metadata": {
    "colab": {
     "base_uri": "https://localhost:8080/",
     "height": 198
    },
    "executionInfo": {
     "elapsed": 5229,
     "status": "ok",
     "timestamp": 1620771178667,
     "user": {
      "displayName": "Md Ameer",
      "photoUrl": "",
      "userId": "14836462514122757591"
     },
     "user_tz": -330
    },
    "id": "UJu0vpuVqXxR",
    "outputId": "ed34a45c-ab0b-43b0-eba8-0bb1a5888c4f"
   },
   "outputs": [
    {
     "data": {
      "text/html": [
       "<div>\n",
       "<style scoped>\n",
       "    .dataframe tbody tr th:only-of-type {\n",
       "        vertical-align: middle;\n",
       "    }\n",
       "\n",
       "    .dataframe tbody tr th {\n",
       "        vertical-align: top;\n",
       "    }\n",
       "\n",
       "    .dataframe thead th {\n",
       "        text-align: right;\n",
       "    }\n",
       "</style>\n",
       "<table border=\"1\" class=\"dataframe\">\n",
       "  <thead>\n",
       "    <tr style=\"text-align: right;\">\n",
       "      <th></th>\n",
       "      <th>YearsExperience</th>\n",
       "      <th>Salary</th>\n",
       "    </tr>\n",
       "  </thead>\n",
       "  <tbody>\n",
       "    <tr>\n",
       "      <th>0</th>\n",
       "      <td>1.1</td>\n",
       "      <td>39343.0</td>\n",
       "    </tr>\n",
       "    <tr>\n",
       "      <th>1</th>\n",
       "      <td>1.3</td>\n",
       "      <td>46205.0</td>\n",
       "    </tr>\n",
       "    <tr>\n",
       "      <th>2</th>\n",
       "      <td>1.5</td>\n",
       "      <td>37731.0</td>\n",
       "    </tr>\n",
       "    <tr>\n",
       "      <th>3</th>\n",
       "      <td>2.0</td>\n",
       "      <td>43525.0</td>\n",
       "    </tr>\n",
       "    <tr>\n",
       "      <th>4</th>\n",
       "      <td>2.2</td>\n",
       "      <td>39891.0</td>\n",
       "    </tr>\n",
       "  </tbody>\n",
       "</table>\n",
       "</div>"
      ],
      "text/plain": [
       "   YearsExperience   Salary\n",
       "0              1.1  39343.0\n",
       "1              1.3  46205.0\n",
       "2              1.5  37731.0\n",
       "3              2.0  43525.0\n",
       "4              2.2  39891.0"
      ]
     },
     "execution_count": 5,
     "metadata": {},
     "output_type": "execute_result"
    }
   ],
   "source": [
    "\n",
    "df = pd.read_csv('https://raw.githubusercontent.com/ameer-fice/ai-vodafone/main/datasets/Salary_Data.csv')\n",
    "df.head()"
   ]
  },
  {
   "cell_type": "code",
   "execution_count": 6,
   "metadata": {
    "colab": {
     "base_uri": "https://localhost:8080/",
     "height": 265
    },
    "executionInfo": {
     "elapsed": 5209,
     "status": "ok",
     "timestamp": 1620771178670,
     "user": {
      "displayName": "Md Ameer",
      "photoUrl": "",
      "userId": "14836462514122757591"
     },
     "user_tz": -330
    },
    "id": "mHe-Qg4Aqvzw",
    "outputId": "3e31650c-88a5-4304-e4af-68914a44eedc"
   },
   "outputs": [
    {
     "data": {
      "image/png": "[encoded data removed]",
      "text/plain": [
       "<Figure size 640x480 with 1 Axes>"
      ]
     },
     "metadata": {},
     "output_type": "display_data"
    }
   ],
   "source": [
    "import matplotlib.pyplot as plt\n",
    "plt.scatter(df['YearsExperience'],df['Salary'])\n",
    "plt.show()"
   ]
  },
  {
   "cell_type": "code",
   "execution_count": 28,
   "metadata": {
    "executionInfo": {
     "elapsed": 5207,
     "status": "ok",
     "timestamp": 1620771178673,
     "user": {
      "displayName": "Md Ameer",
      "photoUrl": "",
      "userId": "14836462514122757591"
     },
     "user_tz": -330
    },
    "id": "oTxdWfbVq3Or"
   },
   "outputs": [
    {
     "name": "stdout",
     "output_type": "stream",
     "text": [
      "<class 'numpy.ndarray'>\n",
      "<class 'numpy.ndarray'>\n"
     ]
    }
   ],
   "source": [
    "# Divide it into input and output\n",
    "x = df.iloc[:,[0]].values\n",
    "y = df.iloc[:,1].values\n",
    "print(type(x))\n",
    "print(type(y))\n",
    "# x (input) should  be in 2 dimension"
   ]
  },
  {
   "cell_type": "code",
   "execution_count": 8,
   "metadata": {
    "colab": {
     "base_uri": "https://localhost:8080/"
    },
    "executionInfo": {
     "elapsed": 5198,
     "status": "ok",
     "timestamp": 1620771178674,
     "user": {
      "displayName": "Md Ameer",
      "photoUrl": "",
      "userId": "14836462514122757591"
     },
     "user_tz": -330
    },
    "id": "lBXGBlZFury3",
    "outputId": "6ee2ce37-8798-4d27-a7b8-f18f1e396381"
   },
   "outputs": [
    {
     "data": {
      "text/plain": [
       "2"
      ]
     },
     "execution_count": 8,
     "metadata": {},
     "output_type": "execute_result"
    }
   ],
   "source": [
    "x.ndim\n",
    "# ValueError: Expected 2D array, got 1D array instead:"
   ]
  },
  {
   "cell_type": "code",
   "execution_count": 9,
   "metadata": {
    "colab": {
     "base_uri": "https://localhost:8080/"
    },
    "executionInfo": {
     "elapsed": 5190,
     "status": "ok",
     "timestamp": 1620771178676,
     "user": {
      "displayName": "Md Ameer",
      "photoUrl": "",
      "userId": "14836462514122757591"
     },
     "user_tz": -330
    },
    "id": "Auq19WxVrM3B",
    "outputId": "3b6448aa-f153-4d47-bbe8-3a7471d61d77"
   },
   "outputs": [
    {
     "data": {
      "text/plain": [
       "array([ 36187.15875227,  38077.15121656,  39967.14368085,  44692.12484158,\n",
       "        46582.11730587,  53197.09093089,  54142.08716303,  56032.07962732,\n",
       "        56032.07962732,  60757.06078805,  62647.05325234,  63592.04948449,\n",
       "        63592.04948449,  64537.04571663,  68317.03064522,  72097.0155738 ,\n",
       "        73987.00803809,  75877.00050238,  81546.97789525,  82491.9741274 ,\n",
       "        90051.94398456,  92886.932681  , 100446.90253816, 103281.8912346 ,\n",
       "       108006.87239533, 110841.86109176, 115566.84225249, 116511.83848464,\n",
       "       123126.81210966, 125016.80457395])"
      ]
     },
     "execution_count": 9,
     "metadata": {},
     "output_type": "execute_result"
    }
   ],
   "source": [
    "from sklearn.linear_model import LinearRegression\n",
    "model = LinearRegression()\n",
    "#1. Fitting the model : Mapping input with output\n",
    "#2. Predict the values\n",
    "model.fit(x,y) # training your model\n",
    "y_pred = model.predict(x) # Testing your model\n",
    "y_pred"
   ]
  },
  {
   "cell_type": "code",
   "execution_count": 10,
   "metadata": {
    "colab": {
     "base_uri": "https://localhost:8080/"
    },
    "executionInfo": {
     "elapsed": 5182,
     "status": "ok",
     "timestamp": 1620771178680,
     "user": {
      "displayName": "Md Ameer",
      "photoUrl": "",
      "userId": "14836462514122757591"
     },
     "user_tz": -330
    },
    "id": "mNR4TKVqsR6y",
    "outputId": "d62d3efa-589c-4cdb-9df9-3b4120fe330b"
   },
   "outputs": [
    {
     "data": {
      "text/plain": [
       "array([ 39343.,  46205.,  37731.,  43525.,  39891.,  56642.,  60150.,\n",
       "        54445.,  64445.,  57189.,  63218.,  55794.,  56957.,  57081.,\n",
       "        61111.,  67938.,  66029.,  83088.,  81363.,  93940.,  91738.,\n",
       "        98273., 101302., 113812., 109431., 105582., 116969., 112635.,\n",
       "       122391., 121872.])"
      ]
     },
     "execution_count": 10,
     "metadata": {},
     "output_type": "execute_result"
    }
   ],
   "source": [
    "y"
   ]
  },
  {
   "cell_type": "code",
   "execution_count": 11,
   "metadata": {
    "colab": {
     "base_uri": "https://localhost:8080/"
    },
    "executionInfo": {
     "elapsed": 5172,
     "status": "ok",
     "timestamp": 1620771178681,
     "user": {
      "displayName": "Md Ameer",
      "photoUrl": "",
      "userId": "14836462514122757591"
     },
     "user_tz": -330
    },
    "id": "m86lnXPNsZbJ",
    "outputId": "154e8924-9a6a-4d76-9cf3-afd4c55fd391"
   },
   "outputs": [
    {
     "data": {
      "text/plain": [
       "array([9449.96232146])"
      ]
     },
     "execution_count": 11,
     "metadata": {},
     "output_type": "execute_result"
    }
   ],
   "source": [
    "# Check the value of SLope and Intercept\n",
    "model.coef_"
   ]
  },
  {
   "cell_type": "code",
   "execution_count": 12,
   "metadata": {
    "colab": {
     "base_uri": "https://localhost:8080/"
    },
    "executionInfo": {
     "elapsed": 5162,
     "status": "ok",
     "timestamp": 1620771178683,
     "user": {
      "displayName": "Md Ameer",
      "photoUrl": "",
      "userId": "14836462514122757591"
     },
     "user_tz": -330
    },
    "id": "ueDeJINqsyjV",
    "outputId": "bf31afad-097c-44e1-8ca5-98da3c2b7849"
   },
   "outputs": [
    {
     "data": {
      "text/plain": [
       "25792.200198668696"
      ]
     },
     "execution_count": 12,
     "metadata": {},
     "output_type": "execute_result"
    }
   ],
   "source": [
    "model.intercept_"
   ]
  },
  {
   "cell_type": "code",
   "execution_count": 13,
   "metadata": {},
   "outputs": [
    {
     "name": "stdout",
     "output_type": "stream",
     "text": [
      "167527\n"
     ]
    }
   ],
   "source": [
    "# y = mx+c\n",
    "print(9449*15+25792)"
   ]
  },
  {
   "cell_type": "code",
   "execution_count": 22,
   "metadata": {
    "colab": {
     "base_uri": "https://localhost:8080/",
     "height": 265
    },
    "executionInfo": {
     "elapsed": 6069,
     "status": "ok",
     "timestamp": 1620771179603,
     "user": {
      "displayName": "Md Ameer",
      "photoUrl": "",
      "userId": "14836462514122757591"
     },
     "user_tz": -330
    },
    "id": "kGC9f2SQs0nw",
    "outputId": "8a182402-cca7-46c5-d3a7-ca0858c6ee5d"
   },
   "outputs": [
    {
     "data": {
      "image/png": "[encoded data removed]",
      "text/plain": [
       "<Figure size 640x480 with 1 Axes>"
      ]
     },
     "metadata": {},
     "output_type": "display_data"
    }
   ],
   "source": [
    "# Best Fit Line\n",
    "import matplotlib.pyplot as plt\n",
    "plt.scatter(df['YearsExperience'],df['Salary'])\n",
    "plt.plot(x,y_pred,c='r')\n",
    "for i in range(len(x)):\n",
    "  plt.plot([x[i],x[i]],[y[i],y_pred[i]],c='k',linestyle='--')\n",
    "plt.show()"
   ]
  },
  {
   "cell_type": "code",
   "execution_count": 15,
   "metadata": {
    "colab": {
     "base_uri": "https://localhost:8080/"
    },
    "executionInfo": {
     "elapsed": 6065,
     "status": "ok",
     "timestamp": 1620771179607,
     "user": {
      "displayName": "Md Ameer",
      "photoUrl": "",
      "userId": "14836462514122757591"
     },
     "user_tz": -330
    },
    "id": "c95caCsqtF-B",
    "outputId": "d9da4c9b-07e6-4266-f94d-368ffcc9fc50"
   },
   "outputs": [
    {
     "data": {
      "text/plain": [
       "array([58867.06832376])"
      ]
     },
     "execution_count": 15,
     "metadata": {},
     "output_type": "execute_result"
    }
   ],
   "source": [
    "model.predict([[3.5]])\n",
    "# Testing new value"
   ]
  },
  {
   "cell_type": "code",
   "execution_count": 16,
   "metadata": {
    "colab": {
     "base_uri": "https://localhost:8080/"
    },
    "executionInfo": {
     "elapsed": 6060,
     "status": "ok",
     "timestamp": 1620771179611,
     "user": {
      "displayName": "Md Ameer",
      "photoUrl": "",
      "userId": "14836462514122757591"
     },
     "user_tz": -330
    },
    "id": "3IEnvyOVtXqT",
    "outputId": "e5e34091-7aa9-41e7-8449-b3f789710508"
   },
   "outputs": [
    {
     "data": {
      "text/plain": [
       "58867.068323778694"
      ]
     },
     "execution_count": 16,
     "metadata": {},
     "output_type": "execute_result"
    }
   ],
   "source": [
    "9449.96232146*3.5+25792.200198668696"
   ]
  },
  {
   "cell_type": "code",
   "execution_count": 26,
   "metadata": {
    "colab": {
     "base_uri": "https://localhost:8080/"
    },
    "executionInfo": {
     "elapsed": 6053,
     "status": "ok",
     "timestamp": 1620771179613,
     "user": {
      "displayName": "Md Ameer",
      "photoUrl": "",
      "userId": "14836462514122757591"
     },
     "user_tz": -330
    },
    "id": "BHTuVo-sxr6T",
    "outputId": "ec9c43dc-a523-4cc5-9263-9c57e289dad9"
   },
   "outputs": [
    {
     "name": "stdout",
     "output_type": "stream",
     "text": [
      "<class 'numpy.ndarray'>\n",
      "<class 'numpy.ndarray'>\n",
      "6557.862926003854\n",
      "0.9496350736694706\n"
     ]
    }
   ],
   "source": [
    "print(type(y_pred))\n",
    "print(type(x))\n",
    "from sklearn.metrics import mean_squared_error,r2_score\n",
    "print(mean_squared_error(y_pred,y,squared=False))\n",
    "print(r2_score(y_pred,y))"
   ]
  },
  {
   "cell_type": "code",
   "execution_count": 18,
   "metadata": {
    "colab": {
     "base_uri": "https://localhost:8080/"
    },
    "executionInfo": {
     "elapsed": 6047,
     "status": "ok",
     "timestamp": 1620771179616,
     "user": {
      "displayName": "Md Ameer",
      "photoUrl": "",
      "userId": "14836462514122757591"
     },
     "user_tz": -330
    },
    "id": "ie-fULsOwfLZ",
    "outputId": "c38eb8a2-3b7c-4b98-8e7d-f473c46ac4a8"
   },
   "outputs": [
    {
     "data": {
      "text/plain": [
       "array([ 29982.92317941,  32077.49174493,  34172.06031045,  39408.48172426,\n",
       "        41503.05028978,  48834.04026911,  49881.32455187,  51975.8931174 ,\n",
       "        51975.8931174 ,  57212.3145312 ,  59306.88309673,  60354.16737949,\n",
       "        60354.16737949,  61401.45166225,  65590.5887933 ,  69779.72592434,\n",
       "        71874.29448986,  73968.86305539,  80252.56875195,  81299.85303472,\n",
       "        89678.12729681,  92819.98014509, 101198.25440718, 104340.10725547,\n",
       "       109576.52866927, 112718.38151756, 117954.80293137, 119002.08721413,\n",
       "       126333.07719346, 128427.64575898])"
      ]
     },
     "execution_count": 18,
     "metadata": {},
     "output_type": "execute_result"
    }
   ],
   "source": [
    "from sklearn.linear_model import SGDRegressor\n",
    "model = SGDRegressor(random_state=42,penalty=None)\n",
    "#1. Fitting the model : Mapping input with output\n",
    "#2. Predict the values\n",
    "model.fit(x,y) # training your model\n",
    "y_pred = model.predict(x) # Testing your model\n",
    "y_pred"
   ]
  },
  {
   "cell_type": "code",
   "execution_count": 19,
   "metadata": {
    "colab": {
     "base_uri": "https://localhost:8080/"
    },
    "executionInfo": {
     "elapsed": 6039,
     "status": "ok",
     "timestamp": 1620771179618,
     "user": {
      "displayName": "Md Ameer",
      "photoUrl": "",
      "userId": "14836462514122757591"
     },
     "user_tz": -330
    },
    "id": "TAyzebPMxhXq",
    "outputId": "af67f2b6-c19d-4f1a-e989-1b37eccb89ee"
   },
   "outputs": [
    {
     "name": "stdout",
     "output_type": "stream",
     "text": [
      "[10472.84282761]\n",
      "[18462.79606903]\n"
     ]
    }
   ],
   "source": [
    "print(model.coef_)\n",
    "print(model.intercept_)"
   ]
  },
  {
   "cell_type": "code",
   "execution_count": 20,
   "metadata": {
    "colab": {
     "base_uri": "https://localhost:8080/"
    },
    "executionInfo": {
     "elapsed": 6033,
     "status": "ok",
     "timestamp": 1620771179620,
     "user": {
      "displayName": "Md Ameer",
      "photoUrl": "",
      "userId": "14836462514122757591"
     },
     "user_tz": -330
    },
    "id": "zo5c_zK-xo-V",
    "outputId": "d4e7989b-d1b4-461f-e758-538ccc8713e0"
   },
   "outputs": [
    {
     "name": "stdout",
     "output_type": "stream",
     "text": [
      "6557.862926003854\n",
      "0.9496350736694706\n"
     ]
    }
   ],
   "source": [
    "from sklearn.metrics import mean_squared_error,r2_score\n",
    "print(mean_squared_error(y_pred,y,squared=False))\n",
    "print(r2_score(y_pred,y))"
   ]
  },
  {
   "cell_type": "code",
   "execution_count": 21,
   "metadata": {
    "colab": {
     "base_uri": "https://localhost:8080/",
     "height": 265
    },
    "executionInfo": {
     "elapsed": 6022,
     "status": "ok",
     "timestamp": 1620771179622,
     "user": {
      "displayName": "Md Ameer",
      "photoUrl": "",
      "userId": "14836462514122757591"
     },
     "user_tz": -330
    },
    "id": "CJzQDrD9x7hJ",
    "outputId": "d847bc2e-4e9e-4e8a-c502-9bc53c960f56"
   },
   "outputs": [
    {
     "data": {
      "image/png": "[encoded data removed]",
      "text/plain": [
       "<Figure size 640x480 with 1 Axes>"
      ]
     },
     "metadata": {},
     "output_type": "display_data"
    }
   ],
   "source": [
    "import matplotlib.pyplot as plt\n",
    "plt.scatter(df['YearsExperience'],df['Salary'])\n",
    "plt.plot(x,y_pred,c='r')\n",
    "plt.show()"
   ]
  },
  {
   "cell_type": "code",
   "execution_count": null,
   "metadata": {
    "executionInfo": {
     "elapsed": 6019,
     "status": "ok",
     "timestamp": 1620771179624,
     "user": {
      "displayName": "Md Ameer",
      "photoUrl": "",
      "userId": "14836462514122757591"
     },
     "user_tz": -330
    },
    "id": "-AuwIt3DyEXx"
   },
   "outputs": [],
   "source": []
  }
 ],
 "metadata": {
  "colab": {
   "name": "Simple_Linear_Regression.ipynb",
   "provenance": []
  },
  "kernelspec": {
   "display_name": "Python 3 (ipykernel)",
   "language": "python",
   "name": "python3"
  },
  "language_info": {
   "codemirror_mode": {
    "name": "ipython",
    "version": 3
   },
   "file_extension": ".py",
   "mimetype": "text/x-python",
   "name": "python",
   "nbconvert_exporter": "python",
   "pygments_lexer": "ipython3",
   "version": "3.11.5"
  }
 },
 "nbformat": 4,
 "nbformat_minor": 1
}
